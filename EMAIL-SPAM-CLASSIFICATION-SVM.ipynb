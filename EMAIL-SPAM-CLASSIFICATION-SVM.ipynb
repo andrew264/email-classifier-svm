{
 "cells": [
  {
   "cell_type": "markdown",
   "source": [
    "# EMAIL SPAM CLASSIFICATION USING SVM LEARNING ALGORITHM"
   ],
   "metadata": {
    "collapsed": false
   }
  },
  {
   "cell_type": "markdown",
   "source": [
    "### Install required packages"
   ],
   "metadata": {
    "collapsed": false
   }
  },
  {
   "cell_type": "code",
   "execution_count": 4,
   "outputs": [
    {
     "name": "stdout",
     "output_type": "stream",
     "text": [
      "Requirement already satisfied: numpy in c:\\users\\andrew\\pycharmprojects\\email-spam-classifier-svm\\env\\lib\\site-packages (from -r requirements.txt (line 1)) (1.23.4)\n",
      "Requirement already satisfied: pandas in c:\\users\\andrew\\pycharmprojects\\email-spam-classifier-svm\\env\\lib\\site-packages (from -r requirements.txt (line 2)) (1.5.1)\n",
      "Requirement already satisfied: matplotlib in c:\\users\\andrew\\pycharmprojects\\email-spam-classifier-svm\\env\\lib\\site-packages (from -r requirements.txt (line 3)) (3.6.2)\n",
      "Requirement already satisfied: scikit-learn in c:\\users\\andrew\\pycharmprojects\\email-spam-classifier-svm\\env\\lib\\site-packages (from -r requirements.txt (line 4)) (1.1.3)\n",
      "Requirement already satisfied: jupyter in c:\\users\\andrew\\pycharmprojects\\email-spam-classifier-svm\\env\\lib\\site-packages (from -r requirements.txt (line 5)) (1.0.0)\n",
      "Requirement already satisfied: pytz>=2020.1 in c:\\users\\andrew\\pycharmprojects\\email-spam-classifier-svm\\env\\lib\\site-packages (from pandas->-r requirements.txt (line 2)) (2022.6)\n",
      "Requirement already satisfied: python-dateutil>=2.8.1 in c:\\users\\andrew\\pycharmprojects\\email-spam-classifier-svm\\env\\lib\\site-packages (from pandas->-r requirements.txt (line 2)) (2.8.2)\n",
      "Requirement already satisfied: contourpy>=1.0.1 in c:\\users\\andrew\\pycharmprojects\\email-spam-classifier-svm\\env\\lib\\site-packages (from matplotlib->-r requirements.txt (line 3)) (1.0.6)\n",
      "Requirement already satisfied: cycler>=0.10 in c:\\users\\andrew\\pycharmprojects\\email-spam-classifier-svm\\env\\lib\\site-packages (from matplotlib->-r requirements.txt (line 3)) (0.11.0)\n",
      "Requirement already satisfied: kiwisolver>=1.0.1 in c:\\users\\andrew\\pycharmprojects\\email-spam-classifier-svm\\env\\lib\\site-packages (from matplotlib->-r requirements.txt (line 3)) (1.4.4)\n",
      "Requirement already satisfied: fonttools>=4.22.0 in c:\\users\\andrew\\pycharmprojects\\email-spam-classifier-svm\\env\\lib\\site-packages (from matplotlib->-r requirements.txt (line 3)) (4.38.0)\n",
      "Requirement already satisfied: pillow>=6.2.0 in c:\\users\\andrew\\pycharmprojects\\email-spam-classifier-svm\\env\\lib\\site-packages (from matplotlib->-r requirements.txt (line 3)) (9.3.0)\n",
      "Requirement already satisfied: pyparsing>=2.2.1 in c:\\users\\andrew\\pycharmprojects\\email-spam-classifier-svm\\env\\lib\\site-packages (from matplotlib->-r requirements.txt (line 3)) (3.0.9)\n",
      "Requirement already satisfied: packaging>=20.0 in c:\\users\\andrew\\pycharmprojects\\email-spam-classifier-svm\\env\\lib\\site-packages (from matplotlib->-r requirements.txt (line 3)) (21.3)\n",
      "Requirement already satisfied: joblib>=1.0.0 in c:\\users\\andrew\\pycharmprojects\\email-spam-classifier-svm\\env\\lib\\site-packages (from scikit-learn->-r requirements.txt (line 4)) (1.2.0)\n",
      "Requirement already satisfied: scipy>=1.3.2 in c:\\users\\andrew\\pycharmprojects\\email-spam-classifier-svm\\env\\lib\\site-packages (from scikit-learn->-r requirements.txt (line 4)) (1.9.3)\n",
      "Requirement already satisfied: threadpoolctl>=2.0.0 in c:\\users\\andrew\\pycharmprojects\\email-spam-classifier-svm\\env\\lib\\site-packages (from scikit-learn->-r requirements.txt (line 4)) (3.1.0)\n",
      "Requirement already satisfied: ipykernel in c:\\users\\andrew\\pycharmprojects\\email-spam-classifier-svm\\env\\lib\\site-packages (from jupyter->-r requirements.txt (line 5)) (6.17.1)\n",
      "Requirement already satisfied: notebook in c:\\users\\andrew\\pycharmprojects\\email-spam-classifier-svm\\env\\lib\\site-packages (from jupyter->-r requirements.txt (line 5)) (6.5.2)\n",
      "Requirement already satisfied: nbconvert in c:\\users\\andrew\\pycharmprojects\\email-spam-classifier-svm\\env\\lib\\site-packages (from jupyter->-r requirements.txt (line 5)) (7.2.4)\n",
      "Requirement already satisfied: ipywidgets in c:\\users\\andrew\\pycharmprojects\\email-spam-classifier-svm\\env\\lib\\site-packages (from jupyter->-r requirements.txt (line 5)) (8.0.2)\n",
      "Requirement already satisfied: qtconsole in c:\\users\\andrew\\pycharmprojects\\email-spam-classifier-svm\\env\\lib\\site-packages (from jupyter->-r requirements.txt (line 5)) (5.4.0)\n",
      "Requirement already satisfied: jupyter-console in c:\\users\\andrew\\pycharmprojects\\email-spam-classifier-svm\\env\\lib\\site-packages (from jupyter->-r requirements.txt (line 5)) (6.4.4)\n",
      "Requirement already satisfied: six>=1.5 in c:\\users\\andrew\\pycharmprojects\\email-spam-classifier-svm\\env\\lib\\site-packages (from python-dateutil>=2.8.1->pandas->-r requirements.txt (line 2)) (1.16.0)\n",
      "Requirement already satisfied: pyzmq>=17 in c:\\users\\andrew\\pycharmprojects\\email-spam-classifier-svm\\env\\lib\\site-packages (from ipykernel->jupyter->-r requirements.txt (line 5)) (24.0.1)\n",
      "Requirement already satisfied: jupyter-client>=6.1.12 in c:\\users\\andrew\\pycharmprojects\\email-spam-classifier-svm\\env\\lib\\site-packages (from ipykernel->jupyter->-r requirements.txt (line 5)) (7.4.5)\n",
      "Requirement already satisfied: psutil in c:\\users\\andrew\\pycharmprojects\\email-spam-classifier-svm\\env\\lib\\site-packages (from ipykernel->jupyter->-r requirements.txt (line 5)) (5.9.4)\n",
      "Requirement already satisfied: nest-asyncio in c:\\users\\andrew\\pycharmprojects\\email-spam-classifier-svm\\env\\lib\\site-packages (from ipykernel->jupyter->-r requirements.txt (line 5)) (1.5.6)\n",
      "Requirement already satisfied: traitlets>=5.1.0 in c:\\users\\andrew\\pycharmprojects\\email-spam-classifier-svm\\env\\lib\\site-packages (from ipykernel->jupyter->-r requirements.txt (line 5)) (5.5.0)\n",
      "Requirement already satisfied: ipython>=7.23.1 in c:\\users\\andrew\\pycharmprojects\\email-spam-classifier-svm\\env\\lib\\site-packages (from ipykernel->jupyter->-r requirements.txt (line 5)) (8.6.0)\n",
      "Requirement already satisfied: matplotlib-inline>=0.1 in c:\\users\\andrew\\pycharmprojects\\email-spam-classifier-svm\\env\\lib\\site-packages (from ipykernel->jupyter->-r requirements.txt (line 5)) (0.1.6)\n",
      "Requirement already satisfied: debugpy>=1.0 in c:\\users\\andrew\\pycharmprojects\\email-spam-classifier-svm\\env\\lib\\site-packages (from ipykernel->jupyter->-r requirements.txt (line 5)) (1.6.3)\n",
      "Requirement already satisfied: tornado>=6.1 in c:\\users\\andrew\\pycharmprojects\\email-spam-classifier-svm\\env\\lib\\site-packages (from ipykernel->jupyter->-r requirements.txt (line 5)) (6.2)\n",
      "Requirement already satisfied: jupyterlab-widgets~=3.0 in c:\\users\\andrew\\pycharmprojects\\email-spam-classifier-svm\\env\\lib\\site-packages (from ipywidgets->jupyter->-r requirements.txt (line 5)) (3.0.3)\n",
      "Requirement already satisfied: widgetsnbextension~=4.0 in c:\\users\\andrew\\pycharmprojects\\email-spam-classifier-svm\\env\\lib\\site-packages (from ipywidgets->jupyter->-r requirements.txt (line 5)) (4.0.3)\n",
      "Requirement already satisfied: pygments in c:\\users\\andrew\\pycharmprojects\\email-spam-classifier-svm\\env\\lib\\site-packages (from jupyter-console->jupyter->-r requirements.txt (line 5)) (2.13.0)\n",
      "Requirement already satisfied: prompt-toolkit!=3.0.0,!=3.0.1,<3.1.0,>=2.0.0 in c:\\users\\andrew\\pycharmprojects\\email-spam-classifier-svm\\env\\lib\\site-packages (from jupyter-console->jupyter->-r requirements.txt (line 5)) (3.0.32)\n",
      "Requirement already satisfied: jupyterlab-pygments in c:\\users\\andrew\\pycharmprojects\\email-spam-classifier-svm\\env\\lib\\site-packages (from nbconvert->jupyter->-r requirements.txt (line 5)) (0.2.2)\n",
      "Requirement already satisfied: jupyter-core>=4.7 in c:\\users\\andrew\\pycharmprojects\\email-spam-classifier-svm\\env\\lib\\site-packages (from nbconvert->jupyter->-r requirements.txt (line 5)) (5.0.0)\n",
      "Requirement already satisfied: mistune<3,>=2.0.3 in c:\\users\\andrew\\pycharmprojects\\email-spam-classifier-svm\\env\\lib\\site-packages (from nbconvert->jupyter->-r requirements.txt (line 5)) (2.0.4)\n",
      "Requirement already satisfied: nbclient>=0.5.0 in c:\\users\\andrew\\pycharmprojects\\email-spam-classifier-svm\\env\\lib\\site-packages (from nbconvert->jupyter->-r requirements.txt (line 5)) (0.7.0)\n",
      "Requirement already satisfied: bleach in c:\\users\\andrew\\pycharmprojects\\email-spam-classifier-svm\\env\\lib\\site-packages (from nbconvert->jupyter->-r requirements.txt (line 5)) (5.0.1)\n",
      "Requirement already satisfied: markupsafe>=2.0 in c:\\users\\andrew\\pycharmprojects\\email-spam-classifier-svm\\env\\lib\\site-packages (from nbconvert->jupyter->-r requirements.txt (line 5)) (2.1.1)\n",
      "Requirement already satisfied: nbformat>=5.1 in c:\\users\\andrew\\pycharmprojects\\email-spam-classifier-svm\\env\\lib\\site-packages (from nbconvert->jupyter->-r requirements.txt (line 5)) (5.7.0)\n",
      "Requirement already satisfied: defusedxml in c:\\users\\andrew\\pycharmprojects\\email-spam-classifier-svm\\env\\lib\\site-packages (from nbconvert->jupyter->-r requirements.txt (line 5)) (0.7.1)\n",
      "Requirement already satisfied: beautifulsoup4 in c:\\users\\andrew\\pycharmprojects\\email-spam-classifier-svm\\env\\lib\\site-packages (from nbconvert->jupyter->-r requirements.txt (line 5)) (4.11.1)\n",
      "Requirement already satisfied: tinycss2 in c:\\users\\andrew\\pycharmprojects\\email-spam-classifier-svm\\env\\lib\\site-packages (from nbconvert->jupyter->-r requirements.txt (line 5)) (1.2.1)\n",
      "Requirement already satisfied: jinja2>=3.0 in c:\\users\\andrew\\pycharmprojects\\email-spam-classifier-svm\\env\\lib\\site-packages (from nbconvert->jupyter->-r requirements.txt (line 5)) (3.1.2)\n",
      "Requirement already satisfied: pandocfilters>=1.4.1 in c:\\users\\andrew\\pycharmprojects\\email-spam-classifier-svm\\env\\lib\\site-packages (from nbconvert->jupyter->-r requirements.txt (line 5)) (1.5.0)\n",
      "Requirement already satisfied: argon2-cffi in c:\\users\\andrew\\pycharmprojects\\email-spam-classifier-svm\\env\\lib\\site-packages (from notebook->jupyter->-r requirements.txt (line 5)) (21.3.0)\n",
      "Requirement already satisfied: Send2Trash>=1.8.0 in c:\\users\\andrew\\pycharmprojects\\email-spam-classifier-svm\\env\\lib\\site-packages (from notebook->jupyter->-r requirements.txt (line 5)) (1.8.0)\n",
      "Requirement already satisfied: ipython-genutils in c:\\users\\andrew\\pycharmprojects\\email-spam-classifier-svm\\env\\lib\\site-packages (from notebook->jupyter->-r requirements.txt (line 5)) (0.2.0)\n",
      "Requirement already satisfied: prometheus-client in c:\\users\\andrew\\pycharmprojects\\email-spam-classifier-svm\\env\\lib\\site-packages (from notebook->jupyter->-r requirements.txt (line 5)) (0.15.0)\n",
      "Requirement already satisfied: terminado>=0.8.3 in c:\\users\\andrew\\pycharmprojects\\email-spam-classifier-svm\\env\\lib\\site-packages (from notebook->jupyter->-r requirements.txt (line 5)) (0.17.0)\n",
      "Requirement already satisfied: nbclassic>=0.4.7 in c:\\users\\andrew\\pycharmprojects\\email-spam-classifier-svm\\env\\lib\\site-packages (from notebook->jupyter->-r requirements.txt (line 5)) (0.4.8)\n",
      "Requirement already satisfied: qtpy>=2.0.1 in c:\\users\\andrew\\pycharmprojects\\email-spam-classifier-svm\\env\\lib\\site-packages (from qtconsole->jupyter->-r requirements.txt (line 5)) (2.3.0)\n",
      "Requirement already satisfied: pickleshare in c:\\users\\andrew\\pycharmprojects\\email-spam-classifier-svm\\env\\lib\\site-packages (from ipython>=7.23.1->ipykernel->jupyter->-r requirements.txt (line 5)) (0.7.5)\n",
      "Requirement already satisfied: stack-data in c:\\users\\andrew\\pycharmprojects\\email-spam-classifier-svm\\env\\lib\\site-packages (from ipython>=7.23.1->ipykernel->jupyter->-r requirements.txt (line 5)) (0.6.1)\n",
      "Requirement already satisfied: jedi>=0.16 in c:\\users\\andrew\\pycharmprojects\\email-spam-classifier-svm\\env\\lib\\site-packages (from ipython>=7.23.1->ipykernel->jupyter->-r requirements.txt (line 5)) (0.18.1)\n",
      "Requirement already satisfied: colorama in c:\\users\\andrew\\pycharmprojects\\email-spam-classifier-svm\\env\\lib\\site-packages (from ipython>=7.23.1->ipykernel->jupyter->-r requirements.txt (line 5)) (0.4.6)\n",
      "Requirement already satisfied: decorator in c:\\users\\andrew\\pycharmprojects\\email-spam-classifier-svm\\env\\lib\\site-packages (from ipython>=7.23.1->ipykernel->jupyter->-r requirements.txt (line 5)) (5.1.1)\n",
      "Requirement already satisfied: backcall in c:\\users\\andrew\\pycharmprojects\\email-spam-classifier-svm\\env\\lib\\site-packages (from ipython>=7.23.1->ipykernel->jupyter->-r requirements.txt (line 5)) (0.2.0)\n",
      "Requirement already satisfied: entrypoints in c:\\users\\andrew\\pycharmprojects\\email-spam-classifier-svm\\env\\lib\\site-packages (from jupyter-client>=6.1.12->ipykernel->jupyter->-r requirements.txt (line 5)) (0.4)\n",
      "Requirement already satisfied: pywin32>=1.0 in c:\\users\\andrew\\pycharmprojects\\email-spam-classifier-svm\\env\\lib\\site-packages (from jupyter-core>=4.7->nbconvert->jupyter->-r requirements.txt (line 5)) (305)\n",
      "Requirement already satisfied: platformdirs in c:\\users\\andrew\\pycharmprojects\\email-spam-classifier-svm\\env\\lib\\site-packages (from jupyter-core>=4.7->nbconvert->jupyter->-r requirements.txt (line 5)) (2.5.4)\n",
      "Requirement already satisfied: notebook-shim>=0.1.0 in c:\\users\\andrew\\pycharmprojects\\email-spam-classifier-svm\\env\\lib\\site-packages (from nbclassic>=0.4.7->notebook->jupyter->-r requirements.txt (line 5)) (0.2.2)\n",
      "Requirement already satisfied: jupyter-server>=1.8 in c:\\users\\andrew\\pycharmprojects\\email-spam-classifier-svm\\env\\lib\\site-packages (from nbclassic>=0.4.7->notebook->jupyter->-r requirements.txt (line 5)) (1.23.1)\n",
      "Requirement already satisfied: jsonschema>=2.6 in c:\\users\\andrew\\pycharmprojects\\email-spam-classifier-svm\\env\\lib\\site-packages (from nbformat>=5.1->nbconvert->jupyter->-r requirements.txt (line 5)) (4.17.0)\n",
      "Requirement already satisfied: fastjsonschema in c:\\users\\andrew\\pycharmprojects\\email-spam-classifier-svm\\env\\lib\\site-packages (from nbformat>=5.1->nbconvert->jupyter->-r requirements.txt (line 5)) (2.16.2)\n",
      "Requirement already satisfied: wcwidth in c:\\users\\andrew\\pycharmprojects\\email-spam-classifier-svm\\env\\lib\\site-packages (from prompt-toolkit!=3.0.0,!=3.0.1,<3.1.0,>=2.0.0->jupyter-console->jupyter->-r requirements.txt (line 5)) (0.2.5)\n",
      "Requirement already satisfied: pywinpty>=1.1.0 in c:\\users\\andrew\\pycharmprojects\\email-spam-classifier-svm\\env\\lib\\site-packages (from terminado>=0.8.3->notebook->jupyter->-r requirements.txt (line 5)) (2.0.9)\n",
      "Requirement already satisfied: argon2-cffi-bindings in c:\\users\\andrew\\pycharmprojects\\email-spam-classifier-svm\\env\\lib\\site-packages (from argon2-cffi->notebook->jupyter->-r requirements.txt (line 5)) (21.2.0)\n",
      "Requirement already satisfied: soupsieve>1.2 in c:\\users\\andrew\\pycharmprojects\\email-spam-classifier-svm\\env\\lib\\site-packages (from beautifulsoup4->nbconvert->jupyter->-r requirements.txt (line 5)) (2.3.2.post1)\n",
      "Requirement already satisfied: webencodings in c:\\users\\andrew\\pycharmprojects\\email-spam-classifier-svm\\env\\lib\\site-packages (from bleach->nbconvert->jupyter->-r requirements.txt (line 5)) (0.5.1)\n",
      "Requirement already satisfied: parso<0.9.0,>=0.8.0 in c:\\users\\andrew\\pycharmprojects\\email-spam-classifier-svm\\env\\lib\\site-packages (from jedi>=0.16->ipython>=7.23.1->ipykernel->jupyter->-r requirements.txt (line 5)) (0.8.3)\n",
      "Requirement already satisfied: attrs>=17.4.0 in c:\\users\\andrew\\pycharmprojects\\email-spam-classifier-svm\\env\\lib\\site-packages (from jsonschema>=2.6->nbformat>=5.1->nbconvert->jupyter->-r requirements.txt (line 5)) (22.1.0)\n",
      "Requirement already satisfied: pyrsistent!=0.17.0,!=0.17.1,!=0.17.2,>=0.14.0 in c:\\users\\andrew\\pycharmprojects\\email-spam-classifier-svm\\env\\lib\\site-packages (from jsonschema>=2.6->nbformat>=5.1->nbconvert->jupyter->-r requirements.txt (line 5)) (0.19.2)\n",
      "Requirement already satisfied: anyio<4,>=3.1.0 in c:\\users\\andrew\\pycharmprojects\\email-spam-classifier-svm\\env\\lib\\site-packages (from jupyter-server>=1.8->nbclassic>=0.4.7->notebook->jupyter->-r requirements.txt (line 5)) (3.6.2)\n",
      "Requirement already satisfied: websocket-client in c:\\users\\andrew\\pycharmprojects\\email-spam-classifier-svm\\env\\lib\\site-packages (from jupyter-server>=1.8->nbclassic>=0.4.7->notebook->jupyter->-r requirements.txt (line 5)) (1.4.2)\n",
      "Requirement already satisfied: cffi>=1.0.1 in c:\\users\\andrew\\pycharmprojects\\email-spam-classifier-svm\\env\\lib\\site-packages (from argon2-cffi-bindings->argon2-cffi->notebook->jupyter->-r requirements.txt (line 5)) (1.15.1)\n",
      "Requirement already satisfied: asttokens>=2.1.0 in c:\\users\\andrew\\pycharmprojects\\email-spam-classifier-svm\\env\\lib\\site-packages (from stack-data->ipython>=7.23.1->ipykernel->jupyter->-r requirements.txt (line 5)) (2.1.0)\n",
      "Requirement already satisfied: executing>=1.2.0 in c:\\users\\andrew\\pycharmprojects\\email-spam-classifier-svm\\env\\lib\\site-packages (from stack-data->ipython>=7.23.1->ipykernel->jupyter->-r requirements.txt (line 5)) (1.2.0)\n",
      "Requirement already satisfied: pure-eval in c:\\users\\andrew\\pycharmprojects\\email-spam-classifier-svm\\env\\lib\\site-packages (from stack-data->ipython>=7.23.1->ipykernel->jupyter->-r requirements.txt (line 5)) (0.2.2)\n",
      "Requirement already satisfied: sniffio>=1.1 in c:\\users\\andrew\\pycharmprojects\\email-spam-classifier-svm\\env\\lib\\site-packages (from anyio<4,>=3.1.0->jupyter-server>=1.8->nbclassic>=0.4.7->notebook->jupyter->-r requirements.txt (line 5)) (1.3.0)\n",
      "Requirement already satisfied: idna>=2.8 in c:\\users\\andrew\\pycharmprojects\\email-spam-classifier-svm\\env\\lib\\site-packages (from anyio<4,>=3.1.0->jupyter-server>=1.8->nbclassic>=0.4.7->notebook->jupyter->-r requirements.txt (line 5)) (3.4)\n",
      "Requirement already satisfied: pycparser in c:\\users\\andrew\\pycharmprojects\\email-spam-classifier-svm\\env\\lib\\site-packages (from cffi>=1.0.1->argon2-cffi-bindings->argon2-cffi->notebook->jupyter->-r requirements.txt (line 5)) (2.21)\n"
     ]
    }
   ],
   "source": [
    "!pip install -r requirements.txt"
   ],
   "metadata": {
    "collapsed": false
   }
  },
  {
   "cell_type": "markdown",
   "source": [
    "### Import Necessary Libraries"
   ],
   "metadata": {
    "collapsed": false
   }
  },
  {
   "cell_type": "code",
   "execution_count": 5,
   "outputs": [],
   "source": [
    "import numpy as np\n",
    "import pandas as pd\n",
    "import matplotlib.pyplot as plt\n",
    "from sklearn.feature_extraction.text import CountVectorizer\n",
    "from sklearn.model_selection import GridSearchCV\n",
    "from sklearn.metrics import classification_report, confusion_matrix\n",
    "from sklearn import svm"
   ],
   "metadata": {
    "collapsed": false
   }
  },
  {
   "cell_type": "markdown",
   "source": [
    "### # Read the dataset ```spam.csv```"
   ],
   "metadata": {
    "collapsed": false
   }
  },
  {
   "cell_type": "code",
   "execution_count": 6,
   "outputs": [],
   "source": [
    "df = pd.read_csv('spam.csv', encoding='utf-8')"
   ],
   "metadata": {
    "collapsed": false
   }
  },
  {
   "cell_type": "markdown",
   "source": [
    "### Split the data into training and testing sets"
   ],
   "metadata": {
    "collapsed": false
   }
  },
  {
   "cell_type": "code",
   "execution_count": 7,
   "outputs": [
    {
     "name": "stdout",
     "output_type": "stream",
     "text": [
      "Training set size:  4179\n",
      "Testing set size:  1393\n"
     ]
    }
   ],
   "source": [
    "train = df.sample(frac=0.75)\n",
    "test = df.drop(train.index)\n",
    "print('Training set size: ', len(train))\n",
    "print('Testing set size: ', len(test))"
   ],
   "metadata": {
    "collapsed": false
   }
  },
  {
   "cell_type": "markdown",
   "source": [
    "### Create a CountVectorizer object and fit it to the data"
   ],
   "metadata": {
    "collapsed": false
   }
  },
  {
   "cell_type": "code",
   "execution_count": 8,
   "outputs": [
    {
     "data": {
      "text/plain": "CountVectorizer()",
      "text/html": "<style>#sk-container-id-1 {color: black;background-color: white;}#sk-container-id-1 pre{padding: 0;}#sk-container-id-1 div.sk-toggleable {background-color: white;}#sk-container-id-1 label.sk-toggleable__label {cursor: pointer;display: block;width: 100%;margin-bottom: 0;padding: 0.3em;box-sizing: border-box;text-align: center;}#sk-container-id-1 label.sk-toggleable__label-arrow:before {content: \"▸\";float: left;margin-right: 0.25em;color: #696969;}#sk-container-id-1 label.sk-toggleable__label-arrow:hover:before {color: black;}#sk-container-id-1 div.sk-estimator:hover label.sk-toggleable__label-arrow:before {color: black;}#sk-container-id-1 div.sk-toggleable__content {max-height: 0;max-width: 0;overflow: hidden;text-align: left;background-color: #f0f8ff;}#sk-container-id-1 div.sk-toggleable__content pre {margin: 0.2em;color: black;border-radius: 0.25em;background-color: #f0f8ff;}#sk-container-id-1 input.sk-toggleable__control:checked~div.sk-toggleable__content {max-height: 200px;max-width: 100%;overflow: auto;}#sk-container-id-1 input.sk-toggleable__control:checked~label.sk-toggleable__label-arrow:before {content: \"▾\";}#sk-container-id-1 div.sk-estimator input.sk-toggleable__control:checked~label.sk-toggleable__label {background-color: #d4ebff;}#sk-container-id-1 div.sk-label input.sk-toggleable__control:checked~label.sk-toggleable__label {background-color: #d4ebff;}#sk-container-id-1 input.sk-hidden--visually {border: 0;clip: rect(1px 1px 1px 1px);clip: rect(1px, 1px, 1px, 1px);height: 1px;margin: -1px;overflow: hidden;padding: 0;position: absolute;width: 1px;}#sk-container-id-1 div.sk-estimator {font-family: monospace;background-color: #f0f8ff;border: 1px dotted black;border-radius: 0.25em;box-sizing: border-box;margin-bottom: 0.5em;}#sk-container-id-1 div.sk-estimator:hover {background-color: #d4ebff;}#sk-container-id-1 div.sk-parallel-item::after {content: \"\";width: 100%;border-bottom: 1px solid gray;flex-grow: 1;}#sk-container-id-1 div.sk-label:hover label.sk-toggleable__label {background-color: #d4ebff;}#sk-container-id-1 div.sk-serial::before {content: \"\";position: absolute;border-left: 1px solid gray;box-sizing: border-box;top: 0;bottom: 0;left: 50%;z-index: 0;}#sk-container-id-1 div.sk-serial {display: flex;flex-direction: column;align-items: center;background-color: white;padding-right: 0.2em;padding-left: 0.2em;position: relative;}#sk-container-id-1 div.sk-item {position: relative;z-index: 1;}#sk-container-id-1 div.sk-parallel {display: flex;align-items: stretch;justify-content: center;background-color: white;position: relative;}#sk-container-id-1 div.sk-item::before, #sk-container-id-1 div.sk-parallel-item::before {content: \"\";position: absolute;border-left: 1px solid gray;box-sizing: border-box;top: 0;bottom: 0;left: 50%;z-index: -1;}#sk-container-id-1 div.sk-parallel-item {display: flex;flex-direction: column;z-index: 1;position: relative;background-color: white;}#sk-container-id-1 div.sk-parallel-item:first-child::after {align-self: flex-end;width: 50%;}#sk-container-id-1 div.sk-parallel-item:last-child::after {align-self: flex-start;width: 50%;}#sk-container-id-1 div.sk-parallel-item:only-child::after {width: 0;}#sk-container-id-1 div.sk-dashed-wrapped {border: 1px dashed gray;margin: 0 0.4em 0.5em 0.4em;box-sizing: border-box;padding-bottom: 0.4em;background-color: white;}#sk-container-id-1 div.sk-label label {font-family: monospace;font-weight: bold;display: inline-block;line-height: 1.2em;}#sk-container-id-1 div.sk-label-container {text-align: center;}#sk-container-id-1 div.sk-container {/* jupyter's `normalize.less` sets `[hidden] { display: none; }` but bootstrap.min.css set `[hidden] { display: none !important; }` so we also need the `!important` here to be able to override the default hidden behavior on the sphinx rendered scikit-learn.org. See: https://github.com/scikit-learn/scikit-learn/issues/21755 */display: inline-block !important;position: relative;}#sk-container-id-1 div.sk-text-repr-fallback {display: none;}</style><div id=\"sk-container-id-1\" class=\"sk-top-container\"><div class=\"sk-text-repr-fallback\"><pre>CountVectorizer()</pre><b>In a Jupyter environment, please rerun this cell to show the HTML representation or trust the notebook. <br />On GitHub, the HTML representation is unable to render, please try loading this page with nbviewer.org.</b></div><div class=\"sk-container\" hidden><div class=\"sk-item\"><div class=\"sk-estimator sk-toggleable\"><input class=\"sk-toggleable__control sk-hidden--visually\" id=\"sk-estimator-id-1\" type=\"checkbox\" checked><label for=\"sk-estimator-id-1\" class=\"sk-toggleable__label sk-toggleable__label-arrow\">CountVectorizer</label><div class=\"sk-toggleable__content\"><pre>CountVectorizer()</pre></div></div></div></div></div>"
     },
     "execution_count": 8,
     "metadata": {},
     "output_type": "execute_result"
    }
   ],
   "source": [
    "vectorizer = CountVectorizer()\n",
    "vectorizer.fit(df['EmailText'])"
   ],
   "metadata": {
    "collapsed": false
   }
  },
  {
   "cell_type": "markdown",
   "source": [
    "### Transform the training and testing data using the fitted CountVectorizer"
   ],
   "metadata": {
    "collapsed": false
   }
  },
  {
   "cell_type": "code",
   "execution_count": 9,
   "outputs": [],
   "source": [
    "train_data = vectorizer.transform(train['EmailText'])\n",
    "test_data = vectorizer.transform(test['EmailText'])"
   ],
   "metadata": {
    "collapsed": false
   }
  },
  {
   "cell_type": "markdown",
   "source": [
    "### Create an SVM classifier"
   ],
   "metadata": {
    "collapsed": false
   }
  },
  {
   "cell_type": "code",
   "execution_count": 10,
   "outputs": [
    {
     "data": {
      "text/plain": "GridSearchCV(cv=5, estimator=SVC(), n_jobs=-1,\n             param_grid={'C': [1, 10, 100, 1000], 'gamma': [0.001, 0.0001],\n                         'kernel': ['rbf', 'linear']})",
      "text/html": "<style>#sk-container-id-2 {color: black;background-color: white;}#sk-container-id-2 pre{padding: 0;}#sk-container-id-2 div.sk-toggleable {background-color: white;}#sk-container-id-2 label.sk-toggleable__label {cursor: pointer;display: block;width: 100%;margin-bottom: 0;padding: 0.3em;box-sizing: border-box;text-align: center;}#sk-container-id-2 label.sk-toggleable__label-arrow:before {content: \"▸\";float: left;margin-right: 0.25em;color: #696969;}#sk-container-id-2 label.sk-toggleable__label-arrow:hover:before {color: black;}#sk-container-id-2 div.sk-estimator:hover label.sk-toggleable__label-arrow:before {color: black;}#sk-container-id-2 div.sk-toggleable__content {max-height: 0;max-width: 0;overflow: hidden;text-align: left;background-color: #f0f8ff;}#sk-container-id-2 div.sk-toggleable__content pre {margin: 0.2em;color: black;border-radius: 0.25em;background-color: #f0f8ff;}#sk-container-id-2 input.sk-toggleable__control:checked~div.sk-toggleable__content {max-height: 200px;max-width: 100%;overflow: auto;}#sk-container-id-2 input.sk-toggleable__control:checked~label.sk-toggleable__label-arrow:before {content: \"▾\";}#sk-container-id-2 div.sk-estimator input.sk-toggleable__control:checked~label.sk-toggleable__label {background-color: #d4ebff;}#sk-container-id-2 div.sk-label input.sk-toggleable__control:checked~label.sk-toggleable__label {background-color: #d4ebff;}#sk-container-id-2 input.sk-hidden--visually {border: 0;clip: rect(1px 1px 1px 1px);clip: rect(1px, 1px, 1px, 1px);height: 1px;margin: -1px;overflow: hidden;padding: 0;position: absolute;width: 1px;}#sk-container-id-2 div.sk-estimator {font-family: monospace;background-color: #f0f8ff;border: 1px dotted black;border-radius: 0.25em;box-sizing: border-box;margin-bottom: 0.5em;}#sk-container-id-2 div.sk-estimator:hover {background-color: #d4ebff;}#sk-container-id-2 div.sk-parallel-item::after {content: \"\";width: 100%;border-bottom: 1px solid gray;flex-grow: 1;}#sk-container-id-2 div.sk-label:hover label.sk-toggleable__label {background-color: #d4ebff;}#sk-container-id-2 div.sk-serial::before {content: \"\";position: absolute;border-left: 1px solid gray;box-sizing: border-box;top: 0;bottom: 0;left: 50%;z-index: 0;}#sk-container-id-2 div.sk-serial {display: flex;flex-direction: column;align-items: center;background-color: white;padding-right: 0.2em;padding-left: 0.2em;position: relative;}#sk-container-id-2 div.sk-item {position: relative;z-index: 1;}#sk-container-id-2 div.sk-parallel {display: flex;align-items: stretch;justify-content: center;background-color: white;position: relative;}#sk-container-id-2 div.sk-item::before, #sk-container-id-2 div.sk-parallel-item::before {content: \"\";position: absolute;border-left: 1px solid gray;box-sizing: border-box;top: 0;bottom: 0;left: 50%;z-index: -1;}#sk-container-id-2 div.sk-parallel-item {display: flex;flex-direction: column;z-index: 1;position: relative;background-color: white;}#sk-container-id-2 div.sk-parallel-item:first-child::after {align-self: flex-end;width: 50%;}#sk-container-id-2 div.sk-parallel-item:last-child::after {align-self: flex-start;width: 50%;}#sk-container-id-2 div.sk-parallel-item:only-child::after {width: 0;}#sk-container-id-2 div.sk-dashed-wrapped {border: 1px dashed gray;margin: 0 0.4em 0.5em 0.4em;box-sizing: border-box;padding-bottom: 0.4em;background-color: white;}#sk-container-id-2 div.sk-label label {font-family: monospace;font-weight: bold;display: inline-block;line-height: 1.2em;}#sk-container-id-2 div.sk-label-container {text-align: center;}#sk-container-id-2 div.sk-container {/* jupyter's `normalize.less` sets `[hidden] { display: none; }` but bootstrap.min.css set `[hidden] { display: none !important; }` so we also need the `!important` here to be able to override the default hidden behavior on the sphinx rendered scikit-learn.org. See: https://github.com/scikit-learn/scikit-learn/issues/21755 */display: inline-block !important;position: relative;}#sk-container-id-2 div.sk-text-repr-fallback {display: none;}</style><div id=\"sk-container-id-2\" class=\"sk-top-container\"><div class=\"sk-text-repr-fallback\"><pre>GridSearchCV(cv=5, estimator=SVC(), n_jobs=-1,\n             param_grid={&#x27;C&#x27;: [1, 10, 100, 1000], &#x27;gamma&#x27;: [0.001, 0.0001],\n                         &#x27;kernel&#x27;: [&#x27;rbf&#x27;, &#x27;linear&#x27;]})</pre><b>In a Jupyter environment, please rerun this cell to show the HTML representation or trust the notebook. <br />On GitHub, the HTML representation is unable to render, please try loading this page with nbviewer.org.</b></div><div class=\"sk-container\" hidden><div class=\"sk-item sk-dashed-wrapped\"><div class=\"sk-label-container\"><div class=\"sk-label sk-toggleable\"><input class=\"sk-toggleable__control sk-hidden--visually\" id=\"sk-estimator-id-2\" type=\"checkbox\" ><label for=\"sk-estimator-id-2\" class=\"sk-toggleable__label sk-toggleable__label-arrow\">GridSearchCV</label><div class=\"sk-toggleable__content\"><pre>GridSearchCV(cv=5, estimator=SVC(), n_jobs=-1,\n             param_grid={&#x27;C&#x27;: [1, 10, 100, 1000], &#x27;gamma&#x27;: [0.001, 0.0001],\n                         &#x27;kernel&#x27;: [&#x27;rbf&#x27;, &#x27;linear&#x27;]})</pre></div></div></div><div class=\"sk-parallel\"><div class=\"sk-parallel-item\"><div class=\"sk-item\"><div class=\"sk-label-container\"><div class=\"sk-label sk-toggleable\"><input class=\"sk-toggleable__control sk-hidden--visually\" id=\"sk-estimator-id-3\" type=\"checkbox\" ><label for=\"sk-estimator-id-3\" class=\"sk-toggleable__label sk-toggleable__label-arrow\">estimator: SVC</label><div class=\"sk-toggleable__content\"><pre>SVC()</pre></div></div></div><div class=\"sk-serial\"><div class=\"sk-item\"><div class=\"sk-estimator sk-toggleable\"><input class=\"sk-toggleable__control sk-hidden--visually\" id=\"sk-estimator-id-4\" type=\"checkbox\" ><label for=\"sk-estimator-id-4\" class=\"sk-toggleable__label sk-toggleable__label-arrow\">SVC</label><div class=\"sk-toggleable__content\"><pre>SVC()</pre></div></div></div></div></div></div></div></div></div></div>"
     },
     "execution_count": 10,
     "metadata": {},
     "output_type": "execute_result"
    }
   ],
   "source": [
    "tuned_parameters = dict(kernel=['rbf', 'linear'], gamma=[1e-3, 1e-4], C=[1, 10, 100, 1000])\n",
    "model = GridSearchCV(svm.SVC(), tuned_parameters, cv=5, n_jobs=-1)\n",
    "model.fit(train_data, train['Label'])"
   ],
   "metadata": {
    "collapsed": false
   }
  },
  {
   "cell_type": "markdown",
   "source": [
    "### Predict the labels of the test data"
   ],
   "metadata": {
    "collapsed": false
   }
  },
  {
   "cell_type": "code",
   "execution_count": 11,
   "outputs": [
    {
     "name": "stdout",
     "output_type": "stream",
     "text": [
      "Model Accuracy:  98.923 %\n"
     ]
    }
   ],
   "source": [
    "pred: np.ndarray = model.predict(test_data)\n",
    "print('Model Accuracy: ', round(np.mean(pred == test['Label']) * 100, 3), '%')"
   ],
   "metadata": {
    "collapsed": false
   }
  },
  {
   "cell_type": "markdown",
   "source": [
    "### Classification report"
   ],
   "metadata": {
    "collapsed": false
   }
  },
  {
   "cell_type": "code",
   "execution_count": 12,
   "outputs": [
    {
     "name": "stdout",
     "output_type": "stream",
     "text": [
      "              precision    recall  f1-score   support\n",
      "\n",
      "         ham       0.99      1.00      0.99      1212\n",
      "        spam       0.99      0.92      0.96       181\n",
      "\n",
      "    accuracy                           0.99      1393\n",
      "   macro avg       0.99      0.96      0.98      1393\n",
      "weighted avg       0.99      0.99      0.99      1393\n",
      "\n"
     ]
    }
   ],
   "source": [
    "print(classification_report(test['Label'], pred))"
   ],
   "metadata": {
    "collapsed": false
   }
  },
  {
   "cell_type": "markdown",
   "source": [
    "### Plot the confusion matrix"
   ],
   "metadata": {
    "collapsed": false
   }
  },
  {
   "cell_type": "code",
   "execution_count": 13,
   "outputs": [
    {
     "data": {
      "text/plain": "<Figure size 640x480 with 2 Axes>",
      "image/png": "[encoded data removed]"
     },
     "metadata": {},
     "output_type": "display_data"
    }
   ],
   "source": [
    "cm: np.ndarray = confusion_matrix(test['Label'], pred)\n",
    "plt.imshow(cm, interpolation='nearest', cmap=plt.cm.Blues)\n",
    "plt.title('Confusion matrix')\n",
    "plt.colorbar()\n",
    "tick_marks = np.arange(2)\n",
    "plt.xticks(tick_marks, ['Ham', 'Spam'], rotation=45)\n",
    "plt.yticks(tick_marks, ['Ham', 'Spam'])\n",
    "plt.tight_layout()\n",
    "plt.ylabel('True label')\n",
    "plt.xlabel('Predicted label')\n",
    "plt.show()"
   ],
   "metadata": {
    "collapsed": false
   }
  },
  {
   "cell_type": "markdown",
   "source": [
    "### Predict the labels of random test emails"
   ],
   "metadata": {
    "collapsed": false
   }
  },
  {
   "cell_type": "code",
   "execution_count": 15,
   "outputs": [
    {
     "name": "stdout",
     "output_type": "stream",
     "text": [
      "EmilText\t\t\tPredicted\tActual\n",
      "Lemme know when you' \t ham \t ham\n",
      "You flippin your shi \t ham \t ham\n",
      "You are a winner U h \t spam \t spam\n",
      "Cos i was out shoppi \t ham \t ham\n",
      "True dear..i sat to  \t ham \t ham\n"
     ]
    }
   ],
   "source": [
    "test_examples = test.sample(n=5, random_state=69)\n",
    "pred: np.ndarray = model.predict(vectorizer.transform(test_examples['EmailText']))\n",
    "print(\"EmilText\\t\\t\\tPredicted\\tActual\")\n",
    "for i in range(len(test_examples)):\n",
    "    print(test_examples.iloc[i]['EmailText'][:20], '\\t', pred[i], '\\t', test_examples.iloc[i]['Label'])"
   ],
   "metadata": {
    "collapsed": false
   }
  }
 ],
 "metadata": {
  "kernelspec": {
   "display_name": "Python 3",
   "language": "python",
   "name": "python3"
  },
  "language_info": {
   "codemirror_mode": {
    "name": "ipython",
    "version": 2
   },
   "file_extension": ".py",
   "mimetype": "text/x-python",
   "name": "python",
   "nbconvert_exporter": "python",
   "pygments_lexer": "ipython2",
   "version": "2.7.6"
  }
 },
 "nbformat": 4,
 "nbformat_minor": 0
}
